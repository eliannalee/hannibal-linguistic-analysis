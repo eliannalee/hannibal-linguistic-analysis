{
 "cells": [
  {
   "cell_type": "markdown",
   "id": "e7c1e4a8-d5a2-4821-90b2-7fd25a5a8ef2",
   "metadata": {},
   "source": [
    "# Project 3"
   ]
  },
  {
   "cell_type": "code",
   "execution_count": 5,
   "id": "75af4f8e-0a8a-4ff3-9125-ad3b59aa70e6",
   "metadata": {
    "tags": []
   },
   "outputs": [
    {
     "name": "stdout",
     "output_type": "stream",
     "text": [
      "Requirement already satisfied: py-readability-metrics in c:\\users\\elian\\anaconda3\\lib\\site-packages (1.4.5)\n",
      "Requirement already satisfied: nltk in c:\\users\\elian\\anaconda3\\lib\\site-packages (from py-readability-metrics) (3.6.1)\n",
      "Requirement already satisfied: regex in c:\\users\\elian\\anaconda3\\lib\\site-packages (from nltk->py-readability-metrics) (2021.4.4)\n",
      "Requirement already satisfied: tqdm in c:\\users\\elian\\anaconda3\\lib\\site-packages (from nltk->py-readability-metrics) (4.59.0)\n",
      "Requirement already satisfied: joblib in c:\\users\\elian\\anaconda3\\lib\\site-packages (from nltk->py-readability-metrics) (1.0.1)\n",
      "Requirement already satisfied: click in c:\\users\\elian\\anaconda3\\lib\\site-packages (from nltk->py-readability-metrics) (7.1.2)\n"
     ]
    }
   ],
   "source": [
    "import nltk\n",
    "!pip install py-readability-metrics\n",
    "from readability import Readability\n",
    "import pandas as pd\n",
    "from sklearn.feature_extraction.text import TfidfVectorizer\n",
    "from sklearn.decomposition import PCA\n"
   ]
  },
  {
   "cell_type": "code",
   "execution_count": 6,
   "id": "76b08f05-90dc-4124-90c7-d50f0a81add6",
   "metadata": {},
   "outputs": [],
   "source": [
    "with open(r'C:\\Users\\elian\\Downloads\\hannibal_scripts\\H101.txt', encoding=\"utf8\") as h:\n",
    "    H101Raw = h.read()"
   ]
  },
  {
   "cell_type": "code",
   "execution_count": 7,
   "id": "0e90dd9c-a5f3-42ed-91da-cd6ef9f62f3f",
   "metadata": {},
   "outputs": [],
   "source": [
    "with open(r'C:\\Users\\elian\\Downloads\\hannibal_scripts\\H113.txt', encoding=\"utf8\") as h:\n",
    "    H113Raw = h.read()"
   ]
  },
  {
   "cell_type": "code",
   "execution_count": 8,
   "id": "67b5e67a-b23e-4904-81d2-58e840042c73",
   "metadata": {},
   "outputs": [],
   "source": [
    "with open(r'C:\\Users\\elian\\Downloads\\hannibal_scripts\\H201.txt', encoding=\"utf8\") as h:\n",
    "    H201Raw = h.read()"
   ]
  },
  {
   "cell_type": "code",
   "execution_count": 9,
   "id": "25402d75-3a19-40f3-826f-d7fc4665df13",
   "metadata": {},
   "outputs": [],
   "source": [
    "with open(r'C:\\Users\\elian\\Downloads\\hannibal_scripts\\H213.txt', encoding=\"utf8\") as h:\n",
    "    H213Raw = h.read()"
   ]
  },
  {
   "cell_type": "code",
   "execution_count": 10,
   "id": "e4e4de02-db9e-4965-9359-dfa64a284e19",
   "metadata": {},
   "outputs": [],
   "source": [
    "with open(r'C:\\Users\\elian\\Downloads\\hannibal_scripts\\H301.txt', encoding=\"utf8\") as h:\n",
    "    H301Raw = h.read()"
   ]
  },
  {
   "cell_type": "code",
   "execution_count": 11,
   "id": "1ab096c9-d662-47ac-8187-ae93c74d1263",
   "metadata": {},
   "outputs": [],
   "source": [
    "with open(r'C:\\Users\\elian\\Downloads\\hannibal_scripts\\H313.txt', encoding=\"utf8\") as h:\n",
    "    H313Raw = h.read()"
   ]
  },
  {
   "cell_type": "code",
   "execution_count": 12,
   "id": "bcb81840-f911-4555-9e55-e6e6f6a7e6d0",
   "metadata": {},
   "outputs": [],
   "source": [
    "def getClean(rawScript,start):\n",
    "        rawScript = rawScript.lower()\n",
    "        #tokenizedScript = nltk.word_tokenize(rawScript)\n",
    "        startIndex = rawScript.index(start)\n",
    "        cleanScript = rawScript[startIndex:]\n",
    "        return cleanScript"
   ]
  },
  {
   "cell_type": "code",
   "execution_count": 13,
   "id": "791f22e7-311e-4e03-9de9-2a5a321f21ed",
   "metadata": {
    "tags": []
   },
   "outputs": [],
   "source": [
    "H101Clean = getClean(H101Raw,'teaser')\n",
    "H113Clean = getClean(H113Raw,'teaser')\n",
    "H201Clean = getClean(H201Raw,'teaser')\n",
    "H213Clean = getClean(H213Raw,'teaser')\n",
    "H301Clean = getClean(H301Raw,'teaser')\n",
    "H313Clean = getClean(H313Raw,'teaser')"
   ]
  },
  {
   "cell_type": "code",
   "execution_count": 14,
   "id": "53fcd907-2fca-448a-8ab0-b483e828c440",
   "metadata": {},
   "outputs": [],
   "source": [
    "hannibal = {\"season-1\": \n",
    "            {\"101\": H101Clean, \"113\": H113Clean},\n",
    "            \"season-2\": \n",
    "            {\"201\": H201Clean, \"213\": H213Clean },\n",
    "            \"season-3\":\n",
    "            {\"301\": H301Clean, \"313\":H313Clean}}\n"
   ]
  },
  {
   "cell_type": "markdown",
   "id": "04ec24d9-9684-41d3-a67b-bfec77a2a47f",
   "metadata": {},
   "source": [
    "# 2. Sanity Check"
   ]
  },
  {
   "cell_type": "code",
   "execution_count": 15,
   "id": "eadeb601-a9f2-41ed-bd70-d5a5b5a1a3d5",
   "metadata": {
    "jupyter": {
     "outputs_hidden": true
    },
    "tags": []
   },
   "outputs": [
    {
     "data": {
      "text/plain": [
       "'hes across'"
      ]
     },
     "execution_count": 15,
     "metadata": {},
     "output_type": "execute_result"
    }
   ],
   "source": [
    "hannibal[\"season-1\"][\"101\"][100:110]"
   ]
  },
  {
   "cell_type": "code",
   "execution_count": 16,
   "id": "6e4b2faf-ab6a-4e90-a537-929527487daf",
   "metadata": {
    "tags": []
   },
   "outputs": [
    {
     "data": {
      "text/plain": [
       "' the woods'"
      ]
     },
     "execution_count": 16,
     "metadata": {},
     "output_type": "execute_result"
    }
   ],
   "source": [
    "hannibal[\"season-1\"][\"113\"][100:110]"
   ]
  },
  {
   "cell_type": "code",
   "execution_count": 17,
   "id": "4eabf844-45ff-47c4-b96e-512640eeb006",
   "metadata": {
    "tags": []
   },
   "outputs": [
    {
     "data": {
      "text/plain": [
       "'iniature o'"
      ]
     },
     "execution_count": 17,
     "metadata": {},
     "output_type": "execute_result"
    }
   ],
   "source": [
    "hannibal[\"season-2\"][\"201\"][100:110]"
   ]
  },
  {
   "cell_type": "code",
   "execution_count": 18,
   "id": "c7c8539c-6438-41c5-b64e-0778adebefab",
   "metadata": {
    "tags": []
   },
   "outputs": [
    {
     "data": {
      "text/plain": [
       "'as he star'"
      ]
     },
     "execution_count": 18,
     "metadata": {},
     "output_type": "execute_result"
    }
   ],
   "source": [
    "hannibal[\"season-2\"][\"213\"][100:110]"
   ]
  },
  {
   "cell_type": "code",
   "execution_count": 19,
   "id": "626a3ef6-2488-49cf-841b-68d23e4e9bd6",
   "metadata": {
    "tags": []
   },
   "outputs": [
    {
     "data": {
      "text/plain": [
       "'reedom. ou'"
      ]
     },
     "execution_count": 19,
     "metadata": {},
     "output_type": "execute_result"
    }
   ],
   "source": [
    "hannibal[\"season-3\"][\"301\"][100:110]"
   ]
  },
  {
   "cell_type": "code",
   "execution_count": 20,
   "id": "0d9e30bc-d202-49a4-9212-38bf1e3171e0",
   "metadata": {
    "tags": []
   },
   "outputs": [
    {
     "data": {
      "text/plain": [
       "'atching th'"
      ]
     },
     "execution_count": 20,
     "metadata": {},
     "output_type": "execute_result"
    }
   ],
   "source": [
    "hannibal[\"season-3\"][\"313\"][100:110]"
   ]
  },
  {
   "cell_type": "markdown",
   "id": "c4572f6b-26eb-4c25-8844-9919f5c13ae5",
   "metadata": {},
   "source": [
    "# 3. Write a paragraph or two about your corpus. Why did you choose it? How did you organize it? What genres does it belong to? What, if anything, is distinctive about its language? And what do you expect to find in your computational analysis?"
   ]
  },
  {
   "cell_type": "markdown",
   "id": "e484dff8-2023-44df-bc5a-c3e97dc9fba9",
   "metadata": {},
   "source": [
    "I chose this text because Hannibal is one of my favorite shows; I selected both the first and last episode of every season so I could analyze the differences between each season and how the respective episodes demonstrate the plot development. I organized the text in dictionaries based on season, and the genre of this corpus is a TV Show, specifically, a show crime/thriller TV show. While watching the show, I often find myself confused at what the character Hannibal Lecter is saying because the style of the script is very \"romantic\" in a sense, since there are always a lot of flowery adjectives and unnecessary metaphors. Also while watching the show, I find myself thinking \"there's no way people talk like this in real life\" which is true, because rarely will people speak in extended metaphors. That is one of the reasons why I chose to analyze this TV Show in particular because its unique dialogue style really contributes to the atmosphere of the show and I would like to compare it how people talk regularly. I think that the style of Hannibal is really distinct, so using functions like \"generate\" and finding POS patterns will probably produce a result that is unique to the style of Hannibal."
   ]
  },
  {
   "cell_type": "markdown",
   "id": "f7b3dbe5-e5bf-49ee-ba65-b63a25066d1d",
   "metadata": {},
   "source": [
    "# 4-5 Show some basic text statistics about each text in your corpus.  \n",
    "## d) Ratio of male pronouns to female pronouns"
   ]
  },
  {
   "cell_type": "code",
   "execution_count": 21,
   "id": "26a79a6f-9d69-4243-b124-96a34b98c9f8",
   "metadata": {
    "tags": []
   },
   "outputs": [],
   "source": [
    "def find_pronouns():\n",
    "    male_pronouns =  [\"he\", \"him\", \"his\"]\n",
    "    female_pronouns = [\"she\", \"her\", \"hers\"]\n",
    "    male_count = 0 \n",
    "    female_count = 0\n",
    "    pronouns = {}\n",
    "    for season in hannibal.values():\n",
    "        for name, episode in season.items():\n",
    "            episode = episode.split()\n",
    "            for words in episode:\n",
    "                if words in male_pronouns:\n",
    "                    male_count+=1\n",
    "                if words in female_pronouns:\n",
    "                    female_count+= 1 \n",
    "            pronouns[name] = (female_count, male_count)\n",
    "            print(name,\"Male Pronouns: \", male_count, \"Female Pronouns: \", female_count, \"Ratio of Male to Female Pronouns: \", male_count/female_count)       "
   ]
  },
  {
   "cell_type": "code",
   "execution_count": 22,
   "id": "49ad6037-4d65-4152-b207-ec5292625fd9",
   "metadata": {},
   "outputs": [
    {
     "name": "stdout",
     "output_type": "stream",
     "text": [
      "101 Male Pronouns:  265 Female Pronouns:  123 Ratio of Male to Female Pronouns:  2.154471544715447\n",
      "113 Male Pronouns:  484 Female Pronouns:  202 Ratio of Male to Female Pronouns:  2.396039603960396\n",
      "201 Male Pronouns:  674 Female Pronouns:  246 Ratio of Male to Female Pronouns:  2.7398373983739837\n",
      "213 Male Pronouns:  826 Female Pronouns:  335 Ratio of Male to Female Pronouns:  2.4656716417910447\n",
      "301 Male Pronouns:  989 Female Pronouns:  449 Ratio of Male to Female Pronouns:  2.202672605790646\n",
      "313 Male Pronouns:  1160 Female Pronouns:  520 Ratio of Male to Female Pronouns:  2.230769230769231\n"
     ]
    }
   ],
   "source": [
    "find_pronouns()"
   ]
  },
  {
   "cell_type": "markdown",
   "id": "15730b4f-92e6-4954-9509-79de8ae5a042",
   "metadata": {},
   "source": [
    "## a) Length of each text, in number of words, number of sentences, and number of paragraphs or stanzas, if applicable."
   ]
  },
  {
   "cell_type": "code",
   "execution_count": 23,
   "id": "515a19ce-6b58-4e3d-941c-2da3962a59ce",
   "metadata": {
    "tags": []
   },
   "outputs": [
    {
     "name": "stdout",
     "output_type": "stream",
     "text": [
      "101 : 12420\n",
      "113 : 11774\n",
      "201 : 10107\n",
      "213 : 8973\n",
      "301 : 9898\n",
      "313 : 9106\n"
     ]
    }
   ],
   "source": [
    "#length of the texts in number of words\n",
    "for season in hannibal.values():\n",
    "    for name,episode in season.items():\n",
    "        episode = nltk.word_tokenize(episode)\n",
    "        print(name, \":\", len(episode))"
   ]
  },
  {
   "cell_type": "code",
   "execution_count": 24,
   "id": "b0ee4e3d-2856-4447-a40e-e7706ea6c101",
   "metadata": {
    "tags": []
   },
   "outputs": [
    {
     "name": "stdout",
     "output_type": "stream",
     "text": [
      "101 : 1072\n",
      "113 : 1086\n",
      "201 : 898\n",
      "213 : 815\n",
      "301 : 768\n",
      "313 : 751\n"
     ]
    }
   ],
   "source": [
    "#lenght of texts in number of sentences\n",
    "for season in hannibal.values():\n",
    "    for name, episode in season.items():\n",
    "        episode = nltk.sent_tokenize(episode)\n",
    "        print(name, \":\", len(episode))"
   ]
  },
  {
   "cell_type": "code",
   "execution_count": 25,
   "id": "3d904c29-6bc4-4ac5-bded-937283761835",
   "metadata": {
    "tags": []
   },
   "outputs": [
    {
     "name": "stdout",
     "output_type": "stream",
     "text": [
      "101 : 730\n",
      "113 : 697\n",
      "201 : 644\n",
      "213 : 538\n",
      "301 : 624\n",
      "313 : 552\n"
     ]
    }
   ],
   "source": [
    "#length of texts in number of paragraphs\n",
    "for season in hannibal.values():\n",
    "    for name, episode in season.items():\n",
    "        episode = episode.split('\\n\\n')\n",
    "        print(name, \":\", len(episode))"
   ]
  },
  {
   "cell_type": "markdown",
   "id": "16a0b8d9-6873-4f59-9eec-22e12de2bdce",
   "metadata": {},
   "source": [
    "## e. Readability score for each (any of the common readability formulas (Links to an external site.) will do). If the NLTK Text.readability() doesn’t work, you may use an external Python library for calculating readability, or just implement your own."
   ]
  },
  {
   "cell_type": "code",
   "execution_count": 26,
   "id": "990aa8ca-218a-466a-b934-93d7e3ee31b9",
   "metadata": {
    "tags": []
   },
   "outputs": [
    {
     "name": "stdout",
     "output_type": "stream",
     "text": [
      "The readibility score for episode 101 is 8.00089207328343 and the readability grade level is 8\n",
      "The readibility score for episode 113 is 8.368476847684768 and the readability grade level is 8\n",
      "The readibility score for episode 201 is 8.465471445642606 and the readability grade level is 8\n",
      "The readibility score for episode 213 is 8.190437249381574 and the readability grade level is 8\n",
      "The readibility score for episode 301 is 10.00806981654614 and the readability grade level is 10\n",
      "The readibility score for episode 313 is 8.03454979326865 and the readability grade level is 8\n"
     ]
    }
   ],
   "source": [
    "for season in hannibal.values():\n",
    "    for name, episode in season.items():\n",
    "        episode = nltk.word_tokenize(episode)\n",
    "        episodeText = str(episode)\n",
    "        r = Readability(episodeText)\n",
    "        r.gunning_fog()\n",
    "        gf = r.gunning_fog()\n",
    "        print(\"The readibility score for episode\", name, \"is\", gf.score, \"and the readability grade level is\", gf.grade_level)"
   ]
  },
  {
   "cell_type": "markdown",
   "id": "88cf7e70-06ae-44e0-9893-b29543e46db2",
   "metadata": {},
   "source": [
    "## c. Part-of-speech distribution for each section"
   ]
  },
  {
   "cell_type": "code",
   "execution_count": 27,
   "id": "ea88a99f-64d7-4fc2-ad95-e65cb8cfb8bd",
   "metadata": {},
   "outputs": [],
   "source": [
    "def pos_distribution():\n",
    "    pos_dist = {}\n",
    "    for season in hannibal.values():\n",
    "        for name, episode in season.items():\n",
    "            episode = nltk.word_tokenize(episode)\n",
    "            tagPairs = nltk.pos_tag(episode) # returns a list of tuples (word, POS tag)\n",
    "            onlyTags = [pair[1] for pair in tagPairs]\n",
    "            pos_dist[name] = nltk.FreqDist(onlyTags)\n",
    "    return pos_dist"
   ]
  },
  {
   "cell_type": "code",
   "execution_count": 28,
   "id": "87ab6b74-d5f6-42a2-9b36-f714135b32ec",
   "metadata": {},
   "outputs": [],
   "source": [
    "posStats = pos_distribution()"
   ]
  },
  {
   "cell_type": "code",
   "execution_count": 29,
   "id": "df2d121e-efba-4aad-89bf-dd475deb2637",
   "metadata": {
    "tags": []
   },
   "outputs": [
    {
     "data": {
      "text/plain": [
       "<AxesSubplot:title={'center':'POS Distribution'}, xlabel='Parts of Speech Tags', ylabel='frequency'>"
      ]
     },
     "execution_count": 29,
     "metadata": {},
     "output_type": "execute_result"
    },
    {
     "data": {
      "image/png": "[encoded data removed]",
      "text/plain": [
       "<Figure size 720x720 with 1 Axes>"
      ]
     },
     "metadata": {
      "needs_background": "light"
     },
     "output_type": "display_data"
    }
   ],
   "source": [
    "df = pd.DataFrame(posStats.values(), index = posStats.keys())\n",
    "df  = df.T\n",
    "df.plot(figsize = (10, 10), title = 'POS Distribution',xlim= (0, 9), xlabel = 'Parts of Speech Tags', ylabel = \"frequency\")"
   ]
  },
  {
   "cell_type": "markdown",
   "id": "5a20108c-4899-4036-8a4d-78bf05873e96",
   "metadata": {},
   "source": [
    "# 6.Write a paragraph or two about what you notice happening in your results, and what that might tell you about your corpus."
   ]
  },
  {
   "cell_type": "markdown",
   "id": "aa170198-1950-4d38-bc34-72ba171ec0fa",
   "metadata": {},
   "source": [
    "Overall, in conducting this analysis, my predictions matched the generated outcomes, although, for the readability scores I expected the script to be at a higher literacy level. For the majority of the episodes I selected, the gunnning fog readability metric determined that the scripts were at an eighth grade reading level. While watching the show, the dialogue sometimes get hard to understand because some of the characters seem to speak in riddles; however, the 8th grade reading level may be due to the fact that the entirety of the script includes stage directions and such, which are usually quite easy to comprehend. Something that was interesting as well was the length of the episodes; whether it was analyzing the word, sentence, or paragraph length, there is a steady downward trend. I believe this may be because, as the show became more established, less introductory details and dialogue were required for the plot of the show.\n",
    "\n",
    "Throughout the episodes I analyzed, there was always at least double the amount of male pronouns compared to the amount of female pronouns. This is logical, as the show's two main characters are male and there is a lack of female characters to begin with (I think there's about 4 or 5 throughout the entirety of the show). I think the ratio of male-to-female pronouns somewhat accurately represents the  plot of the show, since in season 3 there is an increase in female pronouns, which coincides with one of the main female characters enters a lesbian relationship which is somewhat central to the plot. Additionally, the POS distribution graph shows that there is a constant majority of nouns within the episodes, which, again is logical, considering the fact that a script might have to describe the relationship between characters and their environment moreso than a novel."
   ]
  }
 ],
 "metadata": {
  "kernelspec": {
   "display_name": "Python 3",
   "language": "python",
   "name": "python3"
  },
  "language_info": {
   "codemirror_mode": {
    "name": "ipython",
    "version": 3
   },
   "file_extension": ".py",
   "mimetype": "text/x-python",
   "name": "python",
   "nbconvert_exporter": "python",
   "pygments_lexer": "ipython3",
   "version": "3.8.8"
  }
 },
 "nbformat": 4,
 "nbformat_minor": 5
}
